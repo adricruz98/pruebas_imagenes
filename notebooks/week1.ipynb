{
 "cells": [
  {
   "attachments": {},
   "cell_type": "markdown",
   "metadata": {},
   "source": [
    "# Introduction to analytics"
   ]
  },
  {
   "attachments": {},
   "cell_type": "markdown",
   "metadata": {},
   "source": [
    "<h2>What is analytics?</h2>\n",
    "\n",
    "Nowadays, analytics area has been a relevant topic because of the easy access to the data and the big value that it brings to the business. For this, it is important to understand not only the benefits of analytics but also other more technical concepts, in order to take advantage of the technology at our disposal and give the data a \n",
    "meaning ([source](https://www.oracle.com/business-analytics/what-is-analytics/#fundamentals)).\n",
    "\n",
    "Analytics is a field of computer science that uses math, statistics, and machine learning to find meaningful patterns in data. Analytics – or data analytics – involves sifting through massive data sets to discover, interpret, and share new insights and knowledge ([source](https://www.sap.com/insights/what-is-analytics.html)).\n",
    "\n",
    "<img src= notebooks/imgs/graphic1.png > \n",
    "\n",
    "\n",
    "<h2>But, what kind of things can I do?</h2>\n",
    "\n",
    "There are 4 types of analytics solutions ([source](https://www.oracle.com/business-analytics/data-analytics/)):\n",
    "\n",
    "\n",
    "\n",
    "![](imgs\\4-types-of-data-analytics.png)\n",
    "\n",
    "\\\n",
    "### Descriptive data analytics\n",
    "\n",
    "The goal of this category is to answer the question of what have happened and it is the backbone of reporting. We can find two sub categories: \n",
    "\n",
    "* Canned reports: There are reports that has been designed previously and contains information of a subject. For example: Monthly report with details of ad performance. \n",
    "* Ad hoc reporting: There are on demand analysis to answer a specific business question.\n",
    "\n",
    "### Diagnostic data analytics\n",
    "\n",
    "The goal of this category is to answer the question of why something happened, so diagnostic analytics exams data from the past to understand cause and event. \n",
    "Some tools use are drill down, data discovery, data mining and correlations. \n",
    "\n",
    "### Predictive data analytics\n",
    "\n",
    "asihwedlfo;pwo[pmoefr;bqdjnwk \n",
    "\n",
    "\n",
    "\n",
    "The goal of this category is to answer the question of what is likely to happen. Maybe it is the most common category and it is used to identify trends, correlations, and causation.\n",
    "The predictive analytics use predictive modeling and statistical modeling, and both are important in this category. \n",
    "One example is a selling forecast.\n",
    "\n",
    "### Prescriptive data analytics\n",
    "\n",
    "The goal of this category is to answer the question of what action to take to avoid some risks in the future."
   ]
  },
  {
   "cell_type": "markdown",
   "metadata": {},
   "source": [
    "\n",
    "### Descriptive data analytics\n",
    "\n",
    "The goal of this category is to answer the question of what have happened and it is the backbone of reporting. We can find two sub categories: \n",
    "\n",
    "* Canned reports: There are reports that has been designed previously and contains information of a subject. For example: Monthly report with details of ad performance. \n",
    "* Ad hoc reporting: There are on demand analysis to answer a specific business question.\n",
    "\n",
    "### Diagnostic data analytics\n",
    "\n",
    "The goal of this category is to answer the question of why something happened, so diagnostic analytics exams data from the past to understand cause and event. \n",
    "Some tools use are drill down, data discovery, data mining and correlations. \n",
    "\n",
    "### Predictive data analytics\n",
    "\n",
    "asihwedlfo;pwo[pmoefr;bqdjnwk \n",
    "\n",
    "\n",
    "\n",
    "The goal of this category is to answer the question of what is likely to happen. Maybe it is the most common category and it is used to identify trends, correlations, and causation.\n",
    "The predictive analytics use predictive modeling and statistical modeling, and both are important in this category. \n",
    "One example is a selling forecast.\n",
    "\n",
    "### Prescriptive data analytics\n",
    "\n",
    "The goal of this category is to answer the question of what action to take to avoid some risks in the future."
   ]
  },
  {
   "attachments": {},
   "cell_type": "markdown",
   "metadata": {},
   "source": [
    "# Analytics toolbox"
   ]
  },
  {
   "attachments": {},
   "cell_type": "markdown",
   "metadata": {},
   "source": [
    "<h2>Computer language</h2>\n",
    "\n",
    "A computer language translates the instructions that a human types into instructions that a computer understands and executes.\n",
    "\n",
    "It is relevant to know that a computer language follows strict rules to maintain a logic and avoid ambiguity.\n",
    "\n",
    "## Hello, Python!\n",
    "\n",
    "The preferred programming language for working with data today is **Python** (There are others like R, Scala, or Julia, but they are far behind in market share and the amount of functionality they offer for working with data).\n",
    "\n",
    "<img src=\"..\\imgs\\python.png\" width=\"10%\">\n",
    "\n",
    "Python is great for 3 important reasons:\n",
    "\n",
    "* It's easy to learn\n",
    "* It's easy to read (many other programming languages aren't!)\n",
    "* It's **open source**, which means it's free to use and, even better, other people in the Python community are constantly adding more functionality to the language for free.\n",
    "\n",
    "\n",
    "<h2>How does Python work? A quick understanding</h2>\n",
    "\n",
    "Let's see the general steps that you need to work with Python (think about it as a general process flow):\n",
    "\n",
    "1. **Writing code:** The first step in using Python is to write your code in a text editor or an integrated development environment (IDE) such as Jupyter Notebook or PyCharm.\n",
    "2. **Compiling/interpreting:** Once you have written your code, you need to run it. Python is an interpreted language, which means that it does not need to be compiled before running. Instead, the Python interpreter reads the code line by line and executes it as it goes.\n",
    "3. **Execution:** During execution, the Python interpreter checks each line of code for syntax errors and runs the code as it goes. If there are any errors, the interpreter will report them and stop execution.\n",
    "4. **Result:** Once the code has been executed, it will produce a result. This could be anything from a printed message to a complex data analysis. The result can be saved to a file, printed to the console, or used in another part of the program.\n",
    "\n",
    "**The importance of libraries to work in Python:** \n",
    "\n",
    "- Reusability: Python libraries contain pre-written code that can be reused in different projects. This saves time and effort by not having to reinvent the wheel every time a new project is started.\n",
    "- Functionality: Libraries provide additional functionality that may not be available in the standard Python library. For example, the NumPy library provides functions for working with arrays and matrices, while the Pandas library provides tools for data manipulation and analysis.\n",
    "- Efficiency: Libraries are often written in low-level programming languages, which are optimized for performance. This means that using a library can be faster than writing the same code from scratch in Python.\n",
    "- Collaboration: Python libraries are often open-source, which means that anyone can contribute to their development. This encourages collaboration between developers and ensures that the library is continually improved and updated.\n",
    "\n",
    "So while you are writting your code you will need to add libraries as an additional step. Some of the libraries we will study are: Matplotlib (graphics), Pandas (Read files), etc.\n",
    "\n",
    "\n",
    "## How to execute Python code?\n",
    "\n",
    "To run a Python (`.py`) file in Windows, you can follow these steps:\n",
    "\n",
    "1. Open the Command Prompt: You can open the Command Prompt in Windows by pressing the `Windows key + R` to open the Run dialog box, typing `cmd`, and then pressing `Enter`.\n",
    "2. Navigate to the directory where the `.py` file is located: You can navigate to the directory where your `.py` file is located using the `cd` command in the Command Prompt. For example, if your `.py` file is located in the `Documents` folder on your desktop, you would type `cd C:\\Users\\<your_username>\\Documents` in the Command Prompt and press `Enter`.\n",
    "3. Run the `.py` file: Once you're in the directory where the `.py` file is located, you can run it by typing `python <filename>.py` in the Command Prompt, where `<filename>` is the name of your `.py` file. For example, if your `.py` file is named `my_script.py`, you would type `python my_script.py` in the Command Prompt and press `Enter`.\n",
    "4. Check the output: If your `.py` file produces any output, you should see it in the Command Prompt after you run the file.\n",
    "\n",
    "Alternatively, you can also run a `.py` file in Windows by double-clicking on the file in Windows Explorer, which should open the file in the Python interpreter. However, this method may not always work if the Python interpreter is not properly configured on your computer."
   ]
  },
  {
   "attachments": {},
   "cell_type": "markdown",
   "metadata": {},
   "source": [
    "<h2>IDEs used in data analytics</h2>\n",
    "\n",
    "Some of the most popular IDEs (integrated development environment, or simply the place in where you can write your programs) for data analytics using Python include:\n",
    "\n",
    "- Jupyter Notebook\n",
    "- Spyder\n",
    "- PyCharm\n",
    "- Visual Studio Code\n",
    "\n",
    "Each of these IDEs provides a set of features for data analysis, debugging, and visualization, as well as support for various data science libraries such as Pandas, NumPy, and Matplotlib. The choice of IDE depends on personal preference, programming language, and specific use case.\n",
    "\n",
    "So, you can install the IDE of your preference. However, if you followed the [instructions](..\\instructions.txt), you already have **Anaconda** installed. Anaconda is a popular open-source distribution of the Python and R programming languages used for data science and scientific computing. It includes a package manager, environment manager, and a collection of over 1,500 open-source packages that are pre-configured for data science and machine learning.\n",
    "\n",
    "Once you have installed Anaconda, you can browse for the application on your computer and you will see some IDEs already available such as Jupyter Notebook or Spyder, for example.\n",
    "\n",
    "<img src=\"..\\imgs\\anaconda-front.png\" width=\"30%\">\n",
    "\n",
    "In this course we encourage you to use Jupyter Notebook."
   ]
  },
  {
   "attachments": {},
   "cell_type": "markdown",
   "metadata": {},
   "source": [
    "### Jupyter Notebook\n",
    "\n",
    "To start using Jupyter Notebook you can do as the [instructions](..\\instructions.txt) say (launching the Anaconda Prompt and then launching Jupyter from there) or you can launch it directly from the Anaconda navigator.\n",
    "\n",
    "Once Jupyter Notebook is launched, a window in your web browser will open: \n",
    "\n",
    "<img src=\"..\\imgs\\jupyter-notebook.png\" width=\"30%\">\n",
    "\n",
    "In order to to start working on a new project:\n",
    "\n",
    "<img src=\"..\\imgs\\new_button.png\" width=\"30%\">\n",
    "\n",
    "1. Create a new notebook: To create a new notebook, click on the \"New\" button in the upper right-hand corner of the Jupyter Notebook interface and select \"Python 3\" (or another language, if it's the case) under \"Notebooks\".\n",
    "2. Add cells: A notebook consists of cells, which can contain code, text, or other content. To add a new cell, click on the \"Add\" button or press \"Alt+Enter\" on your keyboard. You can choose the type of cell (code or markdown) by clicking on the dropdown menu in the toolbar.\n",
    "3. Write and execute code: You can write and execute Python code in the code cells. To execute a cell, click on the \"Run\" button in the toolbar or press \"Shift+Enter\" on your keyboard. The output of the code will appear below the cell.\n",
    "4. Add markdown: You can add text to your notebook by creating a markdown cell. To create a markdown cell, click on the \"Markdown\" dropdown menu in the toolbar or press \"Esc\" then \"M\" on your keyboard. You can format the text using markdown syntax.\n",
    "5. Save and share your notebook: Once you have finished your notebook, you can save it by clicking on the \"Save\" button in the toolbar or pressing \"Ctrl+S\" on your keyboard. You can also share your notebook by exporting it to a variety of formats including HTML, PDF, and Markdown.\n",
    "\n",
    "These are the basic steps to use Jupyter Notebook. There are many other features and functionalities you can explore, such as adding images, creating tables, and using keyboard shortcuts."
   ]
  },
  {
   "attachments": {},
   "cell_type": "markdown",
   "metadata": {},
   "source": [
    "<h3>Are there other tools for running Python code?</h3>\n",
    "\n",
    "Yes, there is another tool that you can use via internet which is called Google Colab. You can search this tool in Google and sign in with your Google email account. It works the same as Jupyter Notebook."
   ]
  }
 ],
 "metadata": {
  "kernelspec": {
   "display_name": "Python 3.10.8 64-bit",
   "language": "python",
   "name": "python3"
  },
  "language_info": {
   "name": "python",
   "version": "3.10.8"
  },
  "orig_nbformat": 4,
  "vscode": {
   "interpreter": {
    "hash": "b0fa6594d8f4cbf19f97940f81e996739fb7646882a419484c72d19e05852a7e"
   }
  }
 },
 "nbformat": 4,
 "nbformat_minor": 2
}
